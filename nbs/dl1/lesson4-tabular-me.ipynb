{
  "nbformat": 4,
  "nbformat_minor": 0,
  "metadata": {
    "colab": {
      "name": "lesson4-tabular.ipynb",
      "version": "0.3.2",
      "provenance": []
    },
    "kernelspec": {
      "name": "python3",
      "display_name": "Python 3"
    },
    "accelerator": "GPU"
  },
  "cells": [
    {
      "metadata": {
        "id": "qg3xwOxGJzCy",
        "colab_type": "text"
      },
      "cell_type": "markdown",
      "source": [
        "# Tabular models"
      ]
    },
    {
      "metadata": {
        "id": "CAnjglnYKI_7",
        "colab_type": "code",
        "colab": {}
      },
      "cell_type": "code",
      "source": [
        "%reload_ext autoreload\n",
        "%autoreload 2"
      ],
      "execution_count": 0,
      "outputs": []
    },
    {
      "metadata": {
        "id": "JQhOkpZBKJJI",
        "colab_type": "code",
        "colab": {
          "base_uri": "https://localhost:8080/",
          "height": 51
        },
        "outputId": "c1fcb8e7-da52-4ac8-e2a3-b0bd8beacd52"
      },
      "cell_type": "code",
      "source": [
        "!curl -s https://course.fast.ai/setup/colab | bash"
      ],
      "execution_count": 1,
      "outputs": [
        {
          "output_type": "stream",
          "text": [
            "Updating fastai...\n",
            "Done.\n"
          ],
          "name": "stdout"
        }
      ]
    },
    {
      "metadata": {
        "id": "iUYZnwpCJzC2",
        "colab_type": "code",
        "colab": {}
      },
      "cell_type": "code",
      "source": [
        "from fastai.tabular import *"
      ],
      "execution_count": 0,
      "outputs": []
    },
    {
      "metadata": {
        "id": "-WmXG20rJzC6",
        "colab_type": "text"
      },
      "cell_type": "markdown",
      "source": [
        "Tabular data should be in a Pandas `DataFrame`."
      ]
    },
    {
      "metadata": {
        "id": "LFAJQpDXJzC7",
        "colab_type": "code",
        "colab": {}
      },
      "cell_type": "code",
      "source": [
        "path = untar_data(URLs.ADULT_SAMPLE)\n",
        "df = pd.read_csv(path/'adult.csv')"
      ],
      "execution_count": 0,
      "outputs": []
    },
    {
      "metadata": {
        "id": "mfvgYtREJzC-",
        "colab_type": "code",
        "colab": {}
      },
      "cell_type": "code",
      "source": [
        "dep_var = 'salary'\n",
        "cat_names = ['workclass', 'education', 'marital-status', 'occupation', 'relationship', 'race']\n",
        "cont_names = ['age', 'fnlwgt', 'education-num']\n",
        "procs = [FillMissing, Categorify, Normalize]"
      ],
      "execution_count": 0,
      "outputs": []
    },
    {
      "metadata": {
        "id": "e8dZQtbpJzDB",
        "colab_type": "code",
        "colab": {}
      },
      "cell_type": "code",
      "source": [
        "test = TabularList.from_df(df.iloc[800:1000].copy(), path=path, cat_names=cat_names, cont_names=cont_names)"
      ],
      "execution_count": 0,
      "outputs": []
    },
    {
      "metadata": {
        "id": "2uwKVkq3JzDE",
        "colab_type": "code",
        "colab": {}
      },
      "cell_type": "code",
      "source": [
        "data = (TabularList.from_df(df, path=path, cat_names=cat_names, cont_names=cont_names, procs=procs)\n",
        "                           .split_by_idx(list(range(800,1000)))\n",
        "                           .label_from_df(cols=dep_var)\n",
        "                           .add_test(test)\n",
        "                           .databunch())"
      ],
      "execution_count": 0,
      "outputs": []
    },
    {
      "metadata": {
        "id": "jvB46mDZJzDH",
        "colab_type": "code",
        "colab": {},
        "outputId": "28224bef-129b-4adc-bb3f-dceae18690ce"
      },
      "cell_type": "code",
      "source": [
        "data.show_batch(rows=10)"
      ],
      "execution_count": 0,
      "outputs": [
        {
          "output_type": "display_data",
          "data": {
            "text/html": [
              "<table>  <col width='10%'>  <col width='10%'>  <col width='10%'>  <col width='10%'>  <col width='10%'>  <col width='10%'>  <col width='10%'>  <col width='10%'>  <col width='10%'>  <col width='10%'>  <col width='10%'>  <tr>\n",
              "    <th>workclass</th>\n",
              "    <th>education</th>\n",
              "    <th>marital-status</th>\n",
              "    <th>occupation</th>\n",
              "    <th>relationship</th>\n",
              "    <th>race</th>\n",
              "    <th>education-num_na</th>\n",
              "    <th>age</th>\n",
              "    <th>fnlwgt</th>\n",
              "    <th>education-num</th>\n",
              "    <th>target</th>\n",
              "  </tr>\n",
              "  <tr>\n",
              "    <th> Private</th>\n",
              "    <th> HS-grad</th>\n",
              "    <th> Never-married</th>\n",
              "    <th> Sales</th>\n",
              "    <th> Not-in-family</th>\n",
              "    <th> White</th>\n",
              "    <th>False</th>\n",
              "    <th>-1.2158</th>\n",
              "    <th>1.1004</th>\n",
              "    <th>-0.4224</th>\n",
              "    <th><50k</th>\n",
              "  </tr>\n",
              "  <tr>\n",
              "    <th> ?</th>\n",
              "    <th> HS-grad</th>\n",
              "    <th> Widowed</th>\n",
              "    <th> ?</th>\n",
              "    <th> Not-in-family</th>\n",
              "    <th> White</th>\n",
              "    <th>False</th>\n",
              "    <th>1.8627</th>\n",
              "    <th>0.0976</th>\n",
              "    <th>-0.4224</th>\n",
              "    <th><50k</th>\n",
              "  </tr>\n",
              "  <tr>\n",
              "    <th> Self-emp-not-inc</th>\n",
              "    <th> HS-grad</th>\n",
              "    <th> Never-married</th>\n",
              "    <th> Craft-repair</th>\n",
              "    <th> Own-child</th>\n",
              "    <th> Black</th>\n",
              "    <th>False</th>\n",
              "    <th>0.0303</th>\n",
              "    <th>0.2092</th>\n",
              "    <th>-0.4224</th>\n",
              "    <th><50k</th>\n",
              "  </tr>\n",
              "  <tr>\n",
              "    <th> Private</th>\n",
              "    <th> HS-grad</th>\n",
              "    <th> Married-civ-spouse</th>\n",
              "    <th> Protective-serv</th>\n",
              "    <th> Husband</th>\n",
              "    <th> White</th>\n",
              "    <th>False</th>\n",
              "    <th>1.5695</th>\n",
              "    <th>-0.5938</th>\n",
              "    <th>-0.4224</th>\n",
              "    <th><50k</th>\n",
              "  </tr>\n",
              "  <tr>\n",
              "    <th> Private</th>\n",
              "    <th> HS-grad</th>\n",
              "    <th> Married-civ-spouse</th>\n",
              "    <th> Handlers-cleaners</th>\n",
              "    <th> Husband</th>\n",
              "    <th> White</th>\n",
              "    <th>False</th>\n",
              "    <th>-0.9959</th>\n",
              "    <th>-0.0318</th>\n",
              "    <th>-0.4224</th>\n",
              "    <th><50k</th>\n",
              "  </tr>\n",
              "  <tr>\n",
              "    <th> Private</th>\n",
              "    <th> 10th</th>\n",
              "    <th> Married-civ-spouse</th>\n",
              "    <th> Farming-fishing</th>\n",
              "    <th> Wife</th>\n",
              "    <th> White</th>\n",
              "    <th>False</th>\n",
              "    <th>-0.7027</th>\n",
              "    <th>0.6071</th>\n",
              "    <th>-1.5958</th>\n",
              "    <th><50k</th>\n",
              "  </tr>\n",
              "  <tr>\n",
              "    <th> Private</th>\n",
              "    <th> HS-grad</th>\n",
              "    <th> Married-civ-spouse</th>\n",
              "    <th> Machine-op-inspct</th>\n",
              "    <th> Husband</th>\n",
              "    <th> White</th>\n",
              "    <th>False</th>\n",
              "    <th>0.1036</th>\n",
              "    <th>-0.0968</th>\n",
              "    <th>-0.4224</th>\n",
              "    <th><50k</th>\n",
              "  </tr>\n",
              "  <tr>\n",
              "    <th> Private</th>\n",
              "    <th> Some-college</th>\n",
              "    <th> Married-civ-spouse</th>\n",
              "    <th> Exec-managerial</th>\n",
              "    <th> Own-child</th>\n",
              "    <th> White</th>\n",
              "    <th>False</th>\n",
              "    <th>-0.7760</th>\n",
              "    <th>-0.6653</th>\n",
              "    <th>-0.0312</th>\n",
              "    <th>>=50k</th>\n",
              "  </tr>\n",
              "  <tr>\n",
              "    <th> State-gov</th>\n",
              "    <th> Some-college</th>\n",
              "    <th> Never-married</th>\n",
              "    <th> Tech-support</th>\n",
              "    <th> Own-child</th>\n",
              "    <th> White</th>\n",
              "    <th>False</th>\n",
              "    <th>-0.8493</th>\n",
              "    <th>-1.4959</th>\n",
              "    <th>-0.0312</th>\n",
              "    <th><50k</th>\n",
              "  </tr>\n",
              "  <tr>\n",
              "    <th> Private</th>\n",
              "    <th> 11th</th>\n",
              "    <th> Never-married</th>\n",
              "    <th> Machine-op-inspct</th>\n",
              "    <th> Not-in-family</th>\n",
              "    <th> White</th>\n",
              "    <th>False</th>\n",
              "    <th>-1.0692</th>\n",
              "    <th>-0.9516</th>\n",
              "    <th>-1.2046</th>\n",
              "    <th><50k</th>\n",
              "  </tr>\n",
              "</table>\n"
            ],
            "text/plain": [
              "<IPython.core.display.HTML object>"
            ]
          },
          "metadata": {
            "tags": []
          }
        }
      ]
    },
    {
      "metadata": {
        "id": "iWwTPQ_MJzDO",
        "colab_type": "code",
        "colab": {}
      },
      "cell_type": "code",
      "source": [
        "learn = tabular_learner(data, layers=[200,100], metrics=accuracy)"
      ],
      "execution_count": 0,
      "outputs": []
    },
    {
      "metadata": {
        "id": "mBghA6R3JzDQ",
        "colab_type": "code",
        "colab": {},
        "outputId": "de4ee15e-d421-4286-acd2-6356ecbc6f57"
      },
      "cell_type": "code",
      "source": [
        "learn.fit(1, 1e-2)"
      ],
      "execution_count": 0,
      "outputs": [
        {
          "output_type": "display_data",
          "data": {
            "text/html": [
              "Total time: 00:03 <p><table style='width:300px; margin-bottom:10px'>\n",
              "  <tr>\n",
              "    <th>epoch</th>\n",
              "    <th>train_loss</th>\n",
              "    <th>valid_loss</th>\n",
              "    <th>accuracy</th>\n",
              "  </tr>\n",
              "  <tr>\n",
              "    <th>1</th>\n",
              "    <th>0.354604</th>\n",
              "    <th>0.378520</th>\n",
              "    <th>0.820000</th>\n",
              "  </tr>\n",
              "</table>\n"
            ],
            "text/plain": [
              "<IPython.core.display.HTML object>"
            ]
          },
          "metadata": {
            "tags": []
          }
        }
      ]
    },
    {
      "metadata": {
        "id": "bGUsYjoYJzDU",
        "colab_type": "text"
      },
      "cell_type": "markdown",
      "source": [
        "## Inference"
      ]
    },
    {
      "metadata": {
        "id": "0OxENdvcJzDV",
        "colab_type": "code",
        "colab": {}
      },
      "cell_type": "code",
      "source": [
        "row = df.iloc[0]"
      ],
      "execution_count": 0,
      "outputs": []
    },
    {
      "metadata": {
        "id": "7Yve3aBaJzDY",
        "colab_type": "code",
        "colab": {},
        "outputId": "ad0ea2e4-6ecd-433a-cd65-e5dd2db12ea1"
      },
      "cell_type": "code",
      "source": [
        "learn.predict(row)"
      ],
      "execution_count": 0,
      "outputs": [
        {
          "output_type": "execute_result",
          "data": {
            "text/plain": [
              "(Category >=50k, tensor(1), tensor([0.4402, 0.5598]))"
            ]
          },
          "metadata": {
            "tags": []
          },
          "execution_count": 0
        }
      ]
    },
    {
      "metadata": {
        "id": "Lw39TIXhJzDc",
        "colab_type": "code",
        "colab": {}
      },
      "cell_type": "code",
      "source": [
        ""
      ],
      "execution_count": 0,
      "outputs": []
    }
  ]
}